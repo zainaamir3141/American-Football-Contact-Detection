{
  "nbformat": 4,
  "nbformat_minor": 0,
  "metadata": {
    "colab": {
      "provenance": [],
      "machine_shape": "hm"
    },
    "kernelspec": {
      "name": "python3",
      "display_name": "Python 3"
    },
    "language_info": {
      "name": "python"
    },
    "accelerator": "GPU",
    "gpuClass": "premium"
  },
  "cells": [
    {
      "cell_type": "code",
      "execution_count": null,
      "metadata": {
        "colab": {
          "base_uri": "https://localhost:8080/"
        },
        "id": "_W87-UsdCi9L",
        "outputId": "1bf8753b-40d8-4372-c458-631ee6b82ded"
      },
      "outputs": [
        {
          "output_type": "stream",
          "name": "stdout",
          "text": [
            "Drive already mounted at /content/drive; to attempt to forcibly remount, call drive.mount(\"/content/drive\", force_remount=True).\n"
          ]
        }
      ],
      "source": [
        "from google.colab import drive\n",
        "drive.mount('/content/drive')"
      ]
    },
    {
      "cell_type": "code",
      "source": [
        "!pwd"
      ],
      "metadata": {
        "colab": {
          "base_uri": "https://localhost:8080/"
        },
        "id": "nMaEIXO7C8Vb",
        "outputId": "24618c6d-5c57-4099-edcb-fccb987bb5e1"
      },
      "execution_count": null,
      "outputs": [
        {
          "output_type": "stream",
          "name": "stdout",
          "text": [
            "/content\n"
          ]
        }
      ]
    },
    {
      "cell_type": "code",
      "source": [
        "!unzip drive/MyDrive/contact.zip"
      ],
      "metadata": {
        "id": "JhjOOFd2DH5o",
        "colab": {
          "base_uri": "https://localhost:8080/"
        },
        "outputId": "dcfff80d-b2f3-4b04-e02b-f073197342b1"
      },
      "execution_count": null,
      "outputs": [
        {
          "output_type": "stream",
          "name": "stdout",
          "text": [
            "Archive:  drive/MyDrive/contact.zip\n",
            "replace contact_0/58168_003392_Endzone_0_A23_A32.jpg? [y]es, [n]o, [A]ll, [N]one, [r]ename: y\n",
            "  inflating: contact_0/58168_003392_Endzone_0_A23_A32.jpg  \n",
            "replace contact_0/58168_003392_Endzone_0_A55_H13.jpg? [y]es, [n]o, [A]ll, [N]one, [r]ename: "
          ]
        }
      ]
    },
    {
      "cell_type": "code",
      "source": [
        "!ls"
      ],
      "metadata": {
        "colab": {
          "base_uri": "https://localhost:8080/"
        },
        "id": "JYfsw-5UFKeU",
        "outputId": "80179543-16d7-42cf-ddd4-8075aaeb6170"
      },
      "execution_count": null,
      "outputs": [
        {
          "output_type": "stream",
          "name": "stdout",
          "text": [
            "augmented_images  contact_0  contact_1\tdrive  sample_data\n"
          ]
        }
      ]
    },
    {
      "cell_type": "code",
      "source": [
        "import tensorflow as tf\n",
        "print(\"Num GPUs Available: \", len(tf.config.list_physical_devices('GPU')))"
      ],
      "metadata": {
        "colab": {
          "base_uri": "https://localhost:8080/"
        },
        "id": "gb4eCaVRHazX",
        "outputId": "1cf2da74-dbf9-4840-b703-2826ef3a8c64"
      },
      "execution_count": null,
      "outputs": [
        {
          "output_type": "stream",
          "name": "stdout",
          "text": [
            "Num GPUs Available:  1\n"
          ]
        }
      ]
    },
    {
      "cell_type": "code",
      "source": [
        "# !cd drive/MyDrive"
      ],
      "metadata": {
        "id": "EFhoKFo0Iuj6"
      },
      "execution_count": null,
      "outputs": []
    },
    {
      "cell_type": "code",
      "source": [
        "# import os\n",
        "# os.path.join('drive/MyDrive/')"
      ],
      "metadata": {
        "id": "e-55Vv7RJOPC"
      },
      "execution_count": null,
      "outputs": []
    },
    {
      "cell_type": "code",
      "source": [
        "import pandas as pd\n",
        "import matplotlib.pyplot as plt\n",
        "import pandas as pd\n",
        "import numpy as np\n",
        "from sklearn.model_selection import train_test_split\n",
        "from sklearn.preprocessing import LabelEncoder\n",
        "from tensorflow.keras.applications.resnet50 import ResNet50, preprocess_input\n",
        "from tensorflow.keras.models import Model\n",
        "from tensorflow.keras.layers import Dense, GlobalAveragePooling2D\n",
        "from tensorflow.keras.optimizers import Adam\n",
        "from tensorflow.keras.preprocessing.image import load_img, img_to_array\n",
        "import pandas as pd\n",
        "import numpy as np\n",
        "from sklearn.model_selection import train_test_split\n",
        "from sklearn.preprocessing import LabelEncoder\n",
        "from tensorflow.keras.applications.resnet import ResNet152, preprocess_input\n",
        "from tensorflow.keras.models import Model\n",
        "from tensorflow.keras.layers import Dense, GlobalAveragePooling2D, Dropout\n",
        "from tensorflow.keras.optimizers import Adam\n",
        "from tensorflow.keras.preprocessing.image import load_img, img_to_array\n",
        "from tensorflow.keras.regularizers import l2\n",
        "from tensorflow.keras.applications import EfficientNetB0\n",
        "import os\n",
        "\n",
        "paths = pd.DataFrame(columns = ['image_path','label'])\n",
        "\n",
        "directories = []\n",
        "contacts = []\n",
        "\n",
        "for name in os.listdir('contact_0'):\n",
        "    path = os.path.join('contact_0' ,name)\n",
        "    directories.append(path)\n",
        "    contacts.append(0)\n",
        "\n",
        "for name in os.listdir('contact_1'):\n",
        "    path = os.path.join('contact_1' ,name)\n",
        "    directories.append(path)\n",
        "    contacts.append(1)\n",
        "\n",
        "directories = np.array(directories)\n",
        "contacts = np.array(contacts)\n",
        "paths['image_path'] = directories\n",
        "paths['label'] = contacts\n",
        "#     img = cv2.imread(path)\n",
        "#     plt.imshow(img)\n",
        "#     plt.show()\n",
        "#     break\n",
        "#     name = name.replace('.jpg','')\n",
        "#     l = name.split('_')\n",
        "#     game_plays.append('_'.join(l[:2]))\n",
        "#     views.append(l[2])\n",
        "#     steps.append(int(l[3]))\n",
        "# #     player_labels.append(l[4])\n",
        "#     jersey_number1.append(int(l[4][1:]))\n",
        "#     jersey_number2.append(int(l[5][1:]))\n",
        "#     contact.append(1)\n",
        "# #     print(img.shape)\n",
        "#     img_resized = cv2.resize(img,(150,150))\n",
        "#     img_arr.append(img_resized.flatten())"
      ],
      "metadata": {
        "id": "xx5JadAlHQix"
      },
      "execution_count": null,
      "outputs": []
    },
    {
      "cell_type": "code",
      "source": [
        "# Load and preprocess the dataset\n",
        "# data = pd.read_csv(\"path/to/your/csv_file.csv\")  # Update the path to your CSV file\n",
        "\n",
        "\n",
        "\n",
        "# Assume the DataFrame has columns \"image_path\" and \"label\"\n",
        "X = paths[\"image_path\"].values\n",
        "y = paths[\"label\"].values\n",
        "\n",
        "# Encode the labels\n",
        "label_encoder = LabelEncoder()\n",
        "y_encoded = label_encoder.fit_transform(y)\n",
        "\n",
        "# Split the dataset into training and testing sets\n",
        "X_train, X_test, y_train, y_test = train_test_split(X, y_encoded, test_size=0.2, random_state=42)\n",
        "\n",
        "# Load and preprocess images\n",
        "def load_and_preprocess_images(image_paths, img_size=(150, 150)):\n",
        "    images = []\n",
        "    for path in image_paths:\n",
        "        img = load_img(path, target_size=img_size)\n",
        "        img = img_to_array(img)\n",
        "        img = preprocess_input(img)\n",
        "        images.append(img)\n",
        "    return np.array(images)\n",
        "\n",
        "X_train_processed = load_and_preprocess_images(X_train)\n",
        "X_test_processed = load_and_preprocess_images(X_test)\n",
        "\n",
        "# Create the ResNet model\n",
        "base_model = EfficientNetB0(weights='imagenet', include_top=False)\n",
        "x = base_model.output\n",
        "x = GlobalAveragePooling2D()(x)\n",
        "x = Dense(1024, activation='relu', kernel_regularizer=l2(0.01))(x)  # Add L2 regularization\n",
        "x = Dropout(0.5)(x)  # Add dropout\n",
        "predictions = Dense(len(label_encoder.classes_), activation='softmax')(x)\n",
        "model = Model(inputs=base_model.input, outputs=predictions)\n",
        "# base_model = ResNet50(weights='imagenet', include_top=False)\n",
        "# x = base_model.output\n",
        "# x = GlobalAveragePooling2D()(x)\n",
        "# x = Dense(1024, activation='relu')(x)\n",
        "# predictions = Dense(len(label_encoder.classes_), activation='softmax')(x)\n",
        "# model = Model(inputs=base_model.input, outputs=predictions)\n",
        "\n",
        "# Train the model with the dataset\n",
        "model.compile(optimizer=Adam(lr=0.001), loss='sparse_categorical_crossentropy', metrics=['accuracy'])\n",
        "history = model.fit(X_train_processed, y_train, epochs=50, batch_size=100, validation_data=(X_test_processed, y_test))\n",
        "\n",
        "# Evaluate the model\n",
        "score = model.evaluate(X_test_processed, y_test, verbose=0)\n",
        "print(\"Test loss:\", score[0])\n",
        "print(\"Test accuracy:\", score[1])\n",
        "\n",
        "# Plot training & validation accuracy values\n",
        "plt.figure(figsize=(10, 5))\n",
        "plt.subplot(1, 2, 1)\n",
        "plt.plot(history.history['accuracy'])\n",
        "plt.plot(history.history['val_accuracy'])\n",
        "plt.title('Model accuracy')\n",
        "plt.ylabel('Accuracy')\n",
        "plt.xlabel('Epoch')\n",
        "plt.legend(['Train', 'Validation'], loc='upper left')\n",
        "# plt.savefig('drive/MyDrive/Accuracy.pdf')\n",
        "\n",
        "# Plot training & validation loss values\n",
        "plt.subplot(1, 2, 2)\n",
        "plt.plot(history.history['loss'])\n",
        "plt.plot(history.history['val_loss'])\n",
        "plt.title('Model loss')\n",
        "plt.ylabel('Loss')\n",
        "plt.xlabel('Epoch')\n",
        "plt.legend(['Train', 'Validation'], loc='upper right')\n",
        "plt.savefig('drive/MyDrive/effnetb0_noaugment.pdf')\n",
        "# plt.show()\n"
      ],
      "metadata": {
        "colab": {
          "base_uri": "https://localhost:8080/",
          "height": 1000
        },
        "id": "w_6G_XOBIPEk",
        "outputId": "36c9844e-a71d-4602-8819-95a1a8a581a7"
      },
      "execution_count": null,
      "outputs": [
        {
          "output_type": "stream",
          "name": "stdout",
          "text": [
            "Downloading data from https://storage.googleapis.com/keras-applications/efficientnetb0_notop.h5\n",
            "16705208/16705208 [==============================] - 0s 0us/step\n"
          ]
        },
        {
          "output_type": "stream",
          "name": "stderr",
          "text": [
            "WARNING:absl:`lr` is deprecated in Keras optimizer, please use `learning_rate` or use the legacy optimizer, e.g.,tf.keras.optimizers.legacy.Adam.\n"
          ]
        },
        {
          "output_type": "stream",
          "name": "stdout",
          "text": [
            "Epoch 1/50\n",
            "151/151 [==============================] - 66s 117ms/step - loss: 2.6111 - accuracy: 0.7029 - val_loss: 0.6092 - val_accuracy: 0.7348\n",
            "Epoch 2/50\n",
            "151/151 [==============================] - 15s 101ms/step - loss: 0.5390 - accuracy: 0.7638 - val_loss: 0.5653 - val_accuracy: 0.7356\n",
            "Epoch 3/50\n",
            "151/151 [==============================] - 15s 101ms/step - loss: 0.4749 - accuracy: 0.7912 - val_loss: 0.5628 - val_accuracy: 0.7449\n",
            "Epoch 4/50\n",
            "151/151 [==============================] - 15s 102ms/step - loss: 0.4303 - accuracy: 0.8148 - val_loss: 0.6216 - val_accuracy: 0.7433\n",
            "Epoch 5/50\n",
            "151/151 [==============================] - 15s 101ms/step - loss: 0.3992 - accuracy: 0.8275 - val_loss: 0.6303 - val_accuracy: 0.7449\n",
            "Epoch 6/50\n",
            "151/151 [==============================] - 15s 101ms/step - loss: 0.3683 - accuracy: 0.8461 - val_loss: 0.6525 - val_accuracy: 0.7164\n",
            "Epoch 7/50\n",
            "151/151 [==============================] - 15s 101ms/step - loss: 0.3326 - accuracy: 0.8582 - val_loss: 0.6784 - val_accuracy: 0.7276\n",
            "Epoch 8/50\n",
            "151/151 [==============================] - 15s 100ms/step - loss: 0.3148 - accuracy: 0.8675 - val_loss: 0.8423 - val_accuracy: 0.7108\n",
            "Epoch 9/50\n",
            "151/151 [==============================] - 15s 100ms/step - loss: 0.2858 - accuracy: 0.8768 - val_loss: 1.0139 - val_accuracy: 0.7135\n",
            "Epoch 10/50\n",
            "151/151 [==============================] - 15s 101ms/step - loss: 0.2720 - accuracy: 0.8803 - val_loss: 0.9296 - val_accuracy: 0.6970\n",
            "Epoch 11/50\n",
            "151/151 [==============================] - 15s 101ms/step - loss: 0.2560 - accuracy: 0.8883 - val_loss: 0.9577 - val_accuracy: 0.6890\n",
            "Epoch 12/50\n",
            "151/151 [==============================] - 15s 101ms/step - loss: 0.2321 - accuracy: 0.8964 - val_loss: 0.9628 - val_accuracy: 0.7132\n",
            "Epoch 13/50\n",
            "151/151 [==============================] - 15s 101ms/step - loss: 0.2209 - accuracy: 0.8982 - val_loss: 1.1830 - val_accuracy: 0.7263\n",
            "Epoch 14/50\n",
            "151/151 [==============================] - 15s 100ms/step - loss: 0.2125 - accuracy: 0.9020 - val_loss: 1.0391 - val_accuracy: 0.7169\n",
            "Epoch 15/50\n",
            "151/151 [==============================] - 15s 100ms/step - loss: 0.2088 - accuracy: 0.9033 - val_loss: 0.9501 - val_accuracy: 0.6895\n",
            "Epoch 16/50\n",
            "151/151 [==============================] - 15s 101ms/step - loss: 0.2075 - accuracy: 0.9037 - val_loss: 0.9800 - val_accuracy: 0.7066\n",
            "Epoch 17/50\n",
            "151/151 [==============================] - 15s 101ms/step - loss: 0.1936 - accuracy: 0.9054 - val_loss: 1.1878 - val_accuracy: 0.7079\n",
            "Epoch 18/50\n",
            "151/151 [==============================] - 15s 101ms/step - loss: 0.1823 - accuracy: 0.9112 - val_loss: 1.2919 - val_accuracy: 0.7153\n",
            "Epoch 19/50\n",
            "151/151 [==============================] - 15s 101ms/step - loss: 0.1786 - accuracy: 0.9094 - val_loss: 1.3200 - val_accuracy: 0.6906\n",
            "Epoch 20/50\n",
            "151/151 [==============================] - 15s 101ms/step - loss: 0.1830 - accuracy: 0.9098 - val_loss: 1.6552 - val_accuracy: 0.7052\n",
            "Epoch 21/50\n",
            "151/151 [==============================] - 15s 101ms/step - loss: 0.1710 - accuracy: 0.9140 - val_loss: 1.0215 - val_accuracy: 0.6959\n",
            "Epoch 22/50\n",
            "151/151 [==============================] - 15s 101ms/step - loss: 0.1741 - accuracy: 0.9127 - val_loss: 1.0318 - val_accuracy: 0.7159\n",
            "Epoch 23/50\n",
            "151/151 [==============================] - 15s 101ms/step - loss: 0.1682 - accuracy: 0.9129 - val_loss: 1.2671 - val_accuracy: 0.6898\n",
            "Epoch 24/50\n",
            "151/151 [==============================] - 15s 101ms/step - loss: 0.1634 - accuracy: 0.9173 - val_loss: 1.3112 - val_accuracy: 0.7122\n",
            "Epoch 25/50\n",
            "151/151 [==============================] - 15s 100ms/step - loss: 0.1644 - accuracy: 0.9155 - val_loss: 1.3615 - val_accuracy: 0.7156\n",
            "Epoch 26/50\n",
            "151/151 [==============================] - 15s 101ms/step - loss: 0.1665 - accuracy: 0.9149 - val_loss: 1.1876 - val_accuracy: 0.6919\n",
            "Epoch 27/50\n",
            "151/151 [==============================] - 15s 101ms/step - loss: 0.1552 - accuracy: 0.9173 - val_loss: 1.5942 - val_accuracy: 0.7233\n",
            "Epoch 28/50\n",
            "151/151 [==============================] - 15s 101ms/step - loss: 0.1593 - accuracy: 0.9166 - val_loss: 1.4294 - val_accuracy: 0.6914\n",
            "Epoch 29/50\n",
            "151/151 [==============================] - 15s 100ms/step - loss: 0.1615 - accuracy: 0.9185 - val_loss: 1.5461 - val_accuracy: 0.6954\n",
            "Epoch 30/50\n",
            "151/151 [==============================] - 15s 101ms/step - loss: 0.1549 - accuracy: 0.9190 - val_loss: 1.6214 - val_accuracy: 0.7068\n",
            "Epoch 31/50\n",
            "151/151 [==============================] - 15s 100ms/step - loss: 0.1569 - accuracy: 0.9196 - val_loss: 1.4490 - val_accuracy: 0.6965\n",
            "Epoch 32/50\n",
            "151/151 [==============================] - 15s 101ms/step - loss: 0.1582 - accuracy: 0.9209 - val_loss: 1.2739 - val_accuracy: 0.7116\n",
            "Epoch 33/50\n",
            "151/151 [==============================] - 15s 101ms/step - loss: 0.1521 - accuracy: 0.9200 - val_loss: 1.5128 - val_accuracy: 0.7103\n",
            "Epoch 34/50\n",
            "151/151 [==============================] - 15s 100ms/step - loss: 0.1434 - accuracy: 0.9207 - val_loss: 1.4360 - val_accuracy: 0.6935\n",
            "Epoch 35/50\n",
            "151/151 [==============================] - 15s 101ms/step - loss: 0.1501 - accuracy: 0.9210 - val_loss: 1.5689 - val_accuracy: 0.7161\n",
            "Epoch 36/50\n",
            "151/151 [==============================] - 15s 101ms/step - loss: 0.1548 - accuracy: 0.9177 - val_loss: 1.2389 - val_accuracy: 0.6927\n",
            "Epoch 37/50\n",
            "151/151 [==============================] - 15s 101ms/step - loss: 0.1628 - accuracy: 0.9167 - val_loss: 1.7798 - val_accuracy: 0.7087\n",
            "Epoch 38/50\n",
            "151/151 [==============================] - 15s 101ms/step - loss: 0.1471 - accuracy: 0.9226 - val_loss: 1.4084 - val_accuracy: 0.6999\n",
            "Epoch 39/50\n",
            "151/151 [==============================] - 15s 101ms/step - loss: 0.1339 - accuracy: 0.9234 - val_loss: 2.0561 - val_accuracy: 0.7140\n",
            "Epoch 40/50\n",
            "151/151 [==============================] - 15s 100ms/step - loss: 0.1386 - accuracy: 0.9245 - val_loss: 1.9198 - val_accuracy: 0.7090\n",
            "Epoch 41/50\n",
            "151/151 [==============================] - 15s 101ms/step - loss: 0.1510 - accuracy: 0.9205 - val_loss: 1.1957 - val_accuracy: 0.7151\n",
            "Epoch 42/50\n",
            "151/151 [==============================] - 15s 101ms/step - loss: 0.1496 - accuracy: 0.9222 - val_loss: 1.6606 - val_accuracy: 0.7007\n",
            "Epoch 43/50\n",
            "151/151 [==============================] - 15s 101ms/step - loss: 0.1420 - accuracy: 0.9230 - val_loss: 1.3716 - val_accuracy: 0.7196\n",
            "Epoch 44/50\n",
            "151/151 [==============================] - 15s 101ms/step - loss: 0.1363 - accuracy: 0.9227 - val_loss: 1.4447 - val_accuracy: 0.7143\n",
            "Epoch 45/50\n",
            "151/151 [==============================] - 15s 101ms/step - loss: 0.1362 - accuracy: 0.9256 - val_loss: 2.5662 - val_accuracy: 0.7082\n",
            "Epoch 46/50\n",
            "151/151 [==============================] - 15s 101ms/step - loss: 0.1436 - accuracy: 0.9197 - val_loss: 1.4255 - val_accuracy: 0.7026\n",
            "Epoch 47/50\n",
            "151/151 [==============================] - 15s 100ms/step - loss: 0.1518 - accuracy: 0.9184 - val_loss: 1.2464 - val_accuracy: 0.6778\n",
            "Epoch 48/50\n",
            "151/151 [==============================] - 15s 101ms/step - loss: 0.1379 - accuracy: 0.9239 - val_loss: 1.5281 - val_accuracy: 0.7191\n",
            "Epoch 49/50\n",
            "151/151 [==============================] - 15s 101ms/step - loss: 0.1427 - accuracy: 0.9218 - val_loss: 2.1518 - val_accuracy: 0.7132\n",
            "Epoch 50/50\n",
            "151/151 [==============================] - 15s 101ms/step - loss: 0.1377 - accuracy: 0.9239 - val_loss: 1.9144 - val_accuracy: 0.6975\n",
            "Test loss: 1.9145060777664185\n",
            "Test accuracy: 0.696993887424469\n"
          ]
        },
        {
          "output_type": "display_data",
          "data": {
            "text/plain": [
              "<Figure size 1000x500 with 2 Axes>"
            ],
            "image/png": "[encoded data removed]"
          },
          "metadata": {}
        }
      ]
    },
    {
      "cell_type": "code",
      "source": [
        "from sklearn.metrics import confusion_matrix, classification_report\n",
        "\n",
        "# Predict the classes for the test set\n",
        "y_pred = model.predict(X_test_processed)\n",
        "y_pred_classes = np.argmax(y_pred, axis=1)\n",
        "\n",
        "# Create the confusion matrix\n",
        "cm = confusion_matrix(y_test, y_pred_classes)\n",
        "print(\"Confusion Matrix:\\n\", cm)\n",
        "\n",
        "y_pred_train = model.predict(X_train_processed)\n",
        "y_pred_classes_train = np.argmax(y_pred_train, axis=1)\n",
        "\n",
        "cm = confusion_matrix(y_train, y_pred_classes_train)\n",
        "print(\"Confusion Matrix:\\n\", cm)"
      ],
      "metadata": {
        "colab": {
          "base_uri": "https://localhost:8080/"
        },
        "id": "4OS0ebTdhPCn",
        "outputId": "64f967b9-7945-4b1e-beaa-6d3f3e948b73"
      },
      "execution_count": null,
      "outputs": [
        {
          "output_type": "stream",
          "name": "stdout",
          "text": [
            "118/118 [==============================] - 3s 15ms/step\n",
            "Confusion Matrix:\n",
            " [[1386  646]\n",
            " [ 513 1214]]\n",
            "470/470 [==============================] - 7s 14ms/step\n",
            "Confusion Matrix:\n",
            " [[6945 1003]\n",
            " [  13 7074]]\n"
          ]
        }
      ]
    },
    {
      "cell_type": "code",
      "source": [
        "import pandas as pd\n",
        "import numpy as np\n",
        "from sklearn.model_selection import train_test_split\n",
        "from sklearn.preprocessing import LabelEncoder\n",
        "import tensorflow as tf\n",
        "from tensorflow.keras.models import Model\n",
        "from tensorflow.keras.layers import Dense, GlobalAveragePooling2D, Dropout, Input\n",
        "from tensorflow.keras.optimizers import Adam\n",
        "from tensorflow.keras.preprocessing.image import load_img, img_to_array\n",
        "from tensorflow.keras.regularizers import l2\n",
        "import timm\n",
        "import torch\n",
        "from tensorflow.keras.layers import Lambda\n",
        "\n",
        "import tensorflow.keras.backend as K\n",
        "from tensorflow.keras.layers import Layer\n",
        "\n",
        "class ToTorchTensor(Layer):\n",
        "    def call(self, inputs, *args, **kwargs):\n",
        "        inputs = K.permute_dimensions(inputs, (0, 3, 1, 2))\n",
        "        return torch.from_numpy(inputs.numpy())\n",
        "\n",
        "class ToTFTensor(Layer):\n",
        "    def call(self, inputs, *args, **kwargs):\n",
        "        return tf.convert_to_tensor(inputs.detach().numpy())\n",
        "\n",
        "\n",
        "# Assume the DataFrame has columns \"image_path\" and \"label\"\n",
        "X = paths[\"image_path\"].values\n",
        "y = paths[\"label\"].values\n",
        "\n",
        "# Encode the labels\n",
        "label_encoder = LabelEncoder()\n",
        "y_encoded = label_encoder.fit_transform(y)\n",
        "\n",
        "# Split the dataset into training and testing sets\n",
        "X_train, X_test, y_train, y_test = train_test_split(X, y_encoded, test_size=0.2, random_state=42)\n",
        "\n",
        "# Load and preprocess images\n",
        "def load_and_preprocess_images(image_paths, img_size=(224, 224)):\n",
        "    images = []\n",
        "    for path in image_paths:\n",
        "        img = load_img(path, target_size=img_size)\n",
        "        img = img_to_array(img)\n",
        "        img = img / 255.0  # Swin Transformer expects inputs in the range [0, 1]\n",
        "        images.append(img)\n",
        "    return np.array(images)\n",
        "\n",
        "X_train_processed = load_and_preprocess_images(X_train)\n",
        "X_test_processed = load_and_preprocess_images(X_test)\n",
        "\n",
        "# input_layer = Input(shape=(150, 150, 3))\n",
        "# swin_config = timm.models.swin_transformer.default_cfg.copy()\n",
        "# swin_config['input_size'] = (3, 150, 150)\n",
        "\n",
        "# Create the Swin Transformer model\n",
        "input_layer = Input(shape=(224, 224, 3))\n",
        "\n",
        "# Add a Lambda layer to convert the TensorFlow tensor to a PyTorch tensor\n",
        "to_pytorch_tensor = ToTorchTensor()\n",
        "x = to_pytorch_tensor(input_layer)\n",
        "\n",
        "base_model = timm.create_model('swin_base_patch4_window7_224', pretrained=True, num_classes=0, in_chans=3)\n",
        "x = base_model(input_layer)\n",
        "\n",
        "# Add a Lambda layer to convert the PyTorch tensor back to a TensorFlow tensor\n",
        "to_tf_tensor = ToTFTensor()\n",
        "x = to_tf_tensor(x)\n",
        "\n",
        "x = GlobalAveragePooling2D()(x)\n",
        "x = Dense(1024, activation='relu', kernel_regularizer=l2(0.01))(x)  # Add L2 regularization\n",
        "x = Dropout(0.5)(x)  # Add dropout\n",
        "predictions = Dense(len(label_encoder.classes_), activation='softmax')(x)\n",
        "model = Model(inputs=input_layer, outputs=predictions)\n",
        "\n",
        "# Train the model with the dataset\n",
        "model.compile(optimizer=Adam(lr=0.0001), loss='sparse_categorical_crossentropy', metrics=['accuracy'])\n",
        "history = model.fit(X_train_processed, y_train, epochs=10, batch_size=100, validation_data=(X_test_processed, y_test))\n",
        "\n",
        "# Evaluate the model\n",
        "score = model.evaluate(X_test_processed, y_test, verbose=0)\n",
        "print(\"Test loss:\", score[0])\n",
        "print(\"Test accuracy:\", score[1])\n",
        "\n",
        "\n",
        "\n",
        "# Plot training & validation accuracy values\n",
        "plt.figure(figsize=(10, 5))\n",
        "plt.subplot(1, 2, 1)\n",
        "plt.plot(history.history['accuracy'])\n",
        "plt.plot(history.history['val_accuracy'])\n",
        "plt.title('Model accuracy')\n",
        "plt.ylabel('Accuracy')\n",
        "plt.xlabel('Epoch')\n",
        "plt.legend(['Train', 'Validation'], loc='upper left')\n",
        "# plt.savefig('drive/MyDrive/Accuracy.pdf')\n",
        "\n",
        "# Plot training & validation loss values\n",
        "plt.subplot(1, 2, 2)\n",
        "plt.plot(history.history['loss'])\n",
        "plt.plot(history.history['val_loss'])\n",
        "plt.title('Model loss')\n",
        "plt.ylabel('Loss')\n",
        "plt.xlabel('Epoch')\n",
        "plt.legend(['Train', 'Validation'], loc='upper right')\n",
        "plt.savefig('drive/MyDrive/swin_epochs10.pdf')\n",
        "# plt.show()"
      ],
      "metadata": {
        "id": "QU_VJbiXn97O"
      },
      "execution_count": null,
      "outputs": []
    },
    {
      "cell_type": "code",
      "source": [
        "import os\n",
        "from tensorflow.keras.utils import load_img, img_to_array, array_to_img\n",
        "\n",
        "# Make a directory to save augmented images\n",
        "os.makedirs('drive/MyDrive/augmented_images', exist_ok=True)\n",
        "\n",
        "# Define the number of augmented images per original image\n",
        "num_augmented_images = 5\n",
        "\n",
        "train_datagen = ImageDataGenerator(\n",
        "    rescale=1./255,            # Normalize pixel values\n",
        "    rotation_range=20,         # Randomly rotate images up to 20 degrees\n",
        "    width_shift_range=0.1,     # Randomly shift images horizontally up to 10% of the width\n",
        "    height_shift_range=0.1,    # Randomly shift images vertically up to 10% of the height\n",
        "    shear_range=0.1,           # Randomly apply shearing transformations\n",
        "    zoom_range=0.1,            # Randomly zoom in on images up to 10%\n",
        "    horizontal_flip=True,      # Randomly flip images horizontally\n",
        "    fill_mode='nearest'        # Fill missing pixels with the nearest value\n",
        ")\n",
        "\n",
        "\n",
        "# Iterate through the original images\n",
        "for index, row in paths.iterrows():\n",
        "    image_path = row['image_path']\n",
        "    label = row['label']\n",
        "    \n",
        "    # Load the image and convert it to a numpy array\n",
        "    img = load_img(image_path)\n",
        "    img_array = img_to_array(img)\n",
        "    \n",
        "    # Expand the dimensions to create a batch with a single image\n",
        "    img_array = np.expand_dims(img_array, axis=0)\n",
        "    \n",
        "    # Create a generator for the current image using the ImageDataGenerator\n",
        "    img_gen = train_datagen.flow(img_array, batch_size=1, save_to_dir='drive/MyDrive/augmented_images', save_prefix=f'{label}_', save_format='jpeg')\n",
        "\n",
        "    # Generate augmented images and save them to the 'augmented_images' folder\n",
        "    for i in range(num_augmented_images):\n",
        "        img_gen.next()\n"
      ],
      "metadata": {
        "colab": {
          "base_uri": "https://localhost:8080/",
          "height": 478
        },
        "id": "13q7Zw8wiUsQ",
        "outputId": "9460f123-87aa-4df1-fbdc-c451cc87a02c"
      },
      "execution_count": null,
      "outputs": [
        {
          "output_type": "error",
          "ename": "KeyboardInterrupt",
          "evalue": "ignored",
          "traceback": [
            "\u001b[0;31m---------------------------------------------------------------------------\u001b[0m",
            "\u001b[0;31mKeyboardInterrupt\u001b[0m                         Traceback (most recent call last)",
            "\u001b[0;32m<ipython-input-37-e60f616c1076>\u001b[0m in \u001b[0;36m<cell line: 23>\u001b[0;34m()\u001b[0m\n\u001b[1;32m     37\u001b[0m     \u001b[0;31m# Generate augmented images and save them to the 'augmented_images' folder\u001b[0m\u001b[0;34m\u001b[0m\u001b[0;34m\u001b[0m\u001b[0m\n\u001b[1;32m     38\u001b[0m     \u001b[0;32mfor\u001b[0m \u001b[0mi\u001b[0m \u001b[0;32min\u001b[0m \u001b[0mrange\u001b[0m\u001b[0;34m(\u001b[0m\u001b[0mnum_augmented_images\u001b[0m\u001b[0;34m)\u001b[0m\u001b[0;34m:\u001b[0m\u001b[0;34m\u001b[0m\u001b[0;34m\u001b[0m\u001b[0m\n\u001b[0;32m---> 39\u001b[0;31m         \u001b[0mimg_gen\u001b[0m\u001b[0;34m.\u001b[0m\u001b[0mnext\u001b[0m\u001b[0;34m(\u001b[0m\u001b[0;34m)\u001b[0m\u001b[0;34m\u001b[0m\u001b[0;34m\u001b[0m\u001b[0m\n\u001b[0m",
            "\u001b[0;32m/usr/local/lib/python3.9/dist-packages/keras/preprocessing/image.py\u001b[0m in \u001b[0;36mnext\u001b[0;34m(self)\u001b[0m\n\u001b[1;32m    166\u001b[0m         \u001b[0;31m# The transformation of images is not under thread lock\u001b[0m\u001b[0;34m\u001b[0m\u001b[0;34m\u001b[0m\u001b[0m\n\u001b[1;32m    167\u001b[0m         \u001b[0;31m# so it can be done in parallel\u001b[0m\u001b[0;34m\u001b[0m\u001b[0;34m\u001b[0m\u001b[0m\n\u001b[0;32m--> 168\u001b[0;31m         \u001b[0;32mreturn\u001b[0m \u001b[0mself\u001b[0m\u001b[0;34m.\u001b[0m\u001b[0m_get_batches_of_transformed_samples\u001b[0m\u001b[0;34m(\u001b[0m\u001b[0mindex_array\u001b[0m\u001b[0;34m)\u001b[0m\u001b[0;34m\u001b[0m\u001b[0;34m\u001b[0m\u001b[0m\n\u001b[0m\u001b[1;32m    169\u001b[0m \u001b[0;34m\u001b[0m\u001b[0m\n\u001b[1;32m    170\u001b[0m     \u001b[0;32mdef\u001b[0m \u001b[0m_get_batches_of_transformed_samples\u001b[0m\u001b[0;34m(\u001b[0m\u001b[0mself\u001b[0m\u001b[0;34m,\u001b[0m \u001b[0mindex_array\u001b[0m\u001b[0;34m)\u001b[0m\u001b[0;34m:\u001b[0m\u001b[0;34m\u001b[0m\u001b[0;34m\u001b[0m\u001b[0m\n",
            "\u001b[0;32m/usr/local/lib/python3.9/dist-packages/keras/preprocessing/image.py\u001b[0m in \u001b[0;36m_get_batches_of_transformed_samples\u001b[0;34m(self, index_array)\u001b[0m\n\u001b[1;32m    799\u001b[0m             \u001b[0mx\u001b[0m \u001b[0;34m=\u001b[0m \u001b[0mself\u001b[0m\u001b[0;34m.\u001b[0m\u001b[0mx\u001b[0m\u001b[0;34m[\u001b[0m\u001b[0mj\u001b[0m\u001b[0;34m]\u001b[0m\u001b[0;34m\u001b[0m\u001b[0;34m\u001b[0m\u001b[0m\n\u001b[1;32m    800\u001b[0m             \u001b[0mparams\u001b[0m \u001b[0;34m=\u001b[0m \u001b[0mself\u001b[0m\u001b[0;34m.\u001b[0m\u001b[0mimage_data_generator\u001b[0m\u001b[0;34m.\u001b[0m\u001b[0mget_random_transform\u001b[0m\u001b[0;34m(\u001b[0m\u001b[0mx\u001b[0m\u001b[0;34m.\u001b[0m\u001b[0mshape\u001b[0m\u001b[0;34m)\u001b[0m\u001b[0;34m\u001b[0m\u001b[0;34m\u001b[0m\u001b[0m\n\u001b[0;32m--> 801\u001b[0;31m             x = self.image_data_generator.apply_transform(\n\u001b[0m\u001b[1;32m    802\u001b[0m                 \u001b[0mx\u001b[0m\u001b[0;34m.\u001b[0m\u001b[0mastype\u001b[0m\u001b[0;34m(\u001b[0m\u001b[0mself\u001b[0m\u001b[0;34m.\u001b[0m\u001b[0mdtype\u001b[0m\u001b[0;34m)\u001b[0m\u001b[0;34m,\u001b[0m \u001b[0mparams\u001b[0m\u001b[0;34m\u001b[0m\u001b[0;34m\u001b[0m\u001b[0m\n\u001b[1;32m    803\u001b[0m             )\n",
            "\u001b[0;32m/usr/local/lib/python3.9/dist-packages/keras/preprocessing/image.py\u001b[0m in \u001b[0;36mapply_transform\u001b[0;34m(self, x, transform_parameters)\u001b[0m\n\u001b[1;32m   2009\u001b[0m         \u001b[0mimg_channel_axis\u001b[0m \u001b[0;34m=\u001b[0m \u001b[0mself\u001b[0m\u001b[0;34m.\u001b[0m\u001b[0mchannel_axis\u001b[0m \u001b[0;34m-\u001b[0m \u001b[0;36m1\u001b[0m\u001b[0;34m\u001b[0m\u001b[0;34m\u001b[0m\u001b[0m\n\u001b[1;32m   2010\u001b[0m \u001b[0;34m\u001b[0m\u001b[0m\n\u001b[0;32m-> 2011\u001b[0;31m         x = apply_affine_transform(\n\u001b[0m\u001b[1;32m   2012\u001b[0m             \u001b[0mx\u001b[0m\u001b[0;34m,\u001b[0m\u001b[0;34m\u001b[0m\u001b[0;34m\u001b[0m\u001b[0m\n\u001b[1;32m   2013\u001b[0m             \u001b[0mtransform_parameters\u001b[0m\u001b[0;34m.\u001b[0m\u001b[0mget\u001b[0m\u001b[0;34m(\u001b[0m\u001b[0;34m\"theta\"\u001b[0m\u001b[0;34m,\u001b[0m \u001b[0;36m0\u001b[0m\u001b[0;34m)\u001b[0m\u001b[0;34m,\u001b[0m\u001b[0;34m\u001b[0m\u001b[0;34m\u001b[0m\u001b[0m\n",
            "\u001b[0;32m/usr/local/lib/python3.9/dist-packages/keras/preprocessing/image.py\u001b[0m in \u001b[0;36mapply_affine_transform\u001b[0;34m(x, theta, tx, ty, shear, zx, zy, row_axis, col_axis, channel_axis, fill_mode, cval, order)\u001b[0m\n\u001b[1;32m   2607\u001b[0m         \u001b[0mfinal_offset\u001b[0m \u001b[0;34m=\u001b[0m \u001b[0mtransform_matrix\u001b[0m\u001b[0;34m[\u001b[0m\u001b[0;34m:\u001b[0m\u001b[0;36m2\u001b[0m\u001b[0;34m,\u001b[0m \u001b[0;36m2\u001b[0m\u001b[0;34m]\u001b[0m\u001b[0;34m\u001b[0m\u001b[0;34m\u001b[0m\u001b[0m\n\u001b[1;32m   2608\u001b[0m \u001b[0;34m\u001b[0m\u001b[0m\n\u001b[0;32m-> 2609\u001b[0;31m         channel_images = [\n\u001b[0m\u001b[1;32m   2610\u001b[0m             ndimage.interpolation.affine_transform(\n\u001b[1;32m   2611\u001b[0m                 \u001b[0mx_channel\u001b[0m\u001b[0;34m,\u001b[0m\u001b[0;34m\u001b[0m\u001b[0;34m\u001b[0m\u001b[0m\n",
            "\u001b[0;32m/usr/local/lib/python3.9/dist-packages/keras/preprocessing/image.py\u001b[0m in \u001b[0;36m<listcomp>\u001b[0;34m(.0)\u001b[0m\n\u001b[1;32m   2608\u001b[0m \u001b[0;34m\u001b[0m\u001b[0m\n\u001b[1;32m   2609\u001b[0m         channel_images = [\n\u001b[0;32m-> 2610\u001b[0;31m             ndimage.interpolation.affine_transform(\n\u001b[0m\u001b[1;32m   2611\u001b[0m                 \u001b[0mx_channel\u001b[0m\u001b[0;34m,\u001b[0m\u001b[0;34m\u001b[0m\u001b[0;34m\u001b[0m\u001b[0m\n\u001b[1;32m   2612\u001b[0m                 \u001b[0mfinal_affine_matrix\u001b[0m\u001b[0;34m,\u001b[0m\u001b[0;34m\u001b[0m\u001b[0;34m\u001b[0m\u001b[0m\n",
            "\u001b[0;32m/usr/local/lib/python3.9/dist-packages/scipy/ndimage/_interpolation.py\u001b[0m in \u001b[0;36maffine_transform\u001b[0;34m(input, matrix, offset, output_shape, output, order, mode, cval, prefilter)\u001b[0m\n\u001b[1;32m    612\u001b[0m                              mode, cval, npad, False)\n\u001b[1;32m    613\u001b[0m     \u001b[0;32melse\u001b[0m\u001b[0;34m:\u001b[0m\u001b[0;34m\u001b[0m\u001b[0;34m\u001b[0m\u001b[0m\n\u001b[0;32m--> 614\u001b[0;31m         _nd_image.geometric_transform(filtered, None, None, matrix, offset,\n\u001b[0m\u001b[1;32m    615\u001b[0m                                       \u001b[0moutput\u001b[0m\u001b[0;34m,\u001b[0m \u001b[0morder\u001b[0m\u001b[0;34m,\u001b[0m \u001b[0mmode\u001b[0m\u001b[0;34m,\u001b[0m \u001b[0mcval\u001b[0m\u001b[0;34m,\u001b[0m \u001b[0mnpad\u001b[0m\u001b[0;34m,\u001b[0m \u001b[0;32mNone\u001b[0m\u001b[0;34m,\u001b[0m\u001b[0;34m\u001b[0m\u001b[0;34m\u001b[0m\u001b[0m\n\u001b[1;32m    616\u001b[0m                                       None)\n",
            "\u001b[0;31mKeyboardInterrupt\u001b[0m: "
          ]
        }
      ]
    },
    {
      "cell_type": "code",
      "source": [
        "import pandas as pd\n",
        "import numpy as np\n",
        "from sklearn.model_selection import train_test_split\n",
        "from sklearn.preprocessing import LabelEncoder\n",
        "from tensorflow.keras.applications.resnet50 import ResNet50, preprocess_input\n",
        "from tensorflow.keras.models import Model\n",
        "from tensorflow.keras.layers import Dense, GlobalAveragePooling2D, Dropout\n",
        "from tensorflow.keras.optimizers import Adam\n",
        "from tensorflow.keras.preprocessing.image import ImageDataGenerator\n",
        "from tensorflow.keras.regularizers import l2\n",
        "from tensorflow.keras.applications import EfficientNetB0\n",
        "import os\n",
        "\n",
        "# Define the image augmentation parameters\n",
        "train_datagen = ImageDataGenerator(\n",
        "    rescale=1./255,            # Normalize pixel values\n",
        "    rotation_range=20,         # Randomly rotate images up to 20 degrees\n",
        "    # width_shift_range=0.1,     # Randomly shift images horizontally up to 10% of the width\n",
        "    # height_shift_range=0.1,    # Randomly shift images vertically up to 10% of the height\n",
        "    # shear_range=0.1,           # Randomly apply shearing transformations\n",
        "    zoom_range=0.1,            # Randomly zoom in on images up to 10%\n",
        "    # horizontal_flip=True,      # Randomly flip images horizontally\n",
        "    # fill_mode='nearest'        # Fill missing pixels with the nearest value\n",
        ")\n",
        "\n",
        "test_datagen = ImageDataGenerator(rescale=1./255)\n",
        "\n",
        "# Define the dataset paths and labels\n",
        "paths = pd.DataFrame(columns=['image_path', 'label'])\n",
        "\n",
        "directories = []\n",
        "contacts = []\n",
        "\n",
        "for name in os.listdir('contact_0'):\n",
        "    path = os.path.join('contact_0', name)\n",
        "    directories.append(path)\n",
        "    contacts.append(0)\n",
        "\n",
        "for name in os.listdir('contact_1'):\n",
        "    path = os.path.join('contact_1', name)\n",
        "    directories.append(path)\n",
        "    contacts.append(1)\n",
        "\n",
        "directories = np.array(directories)\n",
        "contacts = np.array(contacts)\n",
        "paths['image_path'] = directories\n",
        "paths['label'] = contacts\n",
        "\n",
        "# Encode the labels\n",
        "label_encoder = LabelEncoder()\n",
        "y_encoded = label_encoder.fit_transform(paths['label'])\n",
        "\n",
        "# Split the dataset into training and testing sets\n",
        "X_train, X_test, y_train, y_test = train_test_split(paths['image_path'], y_encoded, test_size=0.2, random_state=42)\n",
        "\n",
        "# Define the image generators for the training and testing sets\n",
        "train_generator = train_datagen.flow_from_dataframe(\n",
        "    dataframe=pd.DataFrame({'image_path': X_train, 'label': y_train}),\n",
        "    directory=None,\n",
        "    x_col='image_path',\n",
        "    y_col='label',\n",
        "    target_size=(224, 224),\n",
        "    batch_size=100,\n",
        "    class_mode='raw'\n",
        ")\n",
        "\n",
        "test_generator = test_datagen.flow_from_dataframe(\n",
        "    dataframe=pd.DataFrame({'image_path': X_test, 'label': y_test}),\n",
        "    directory=None,\n",
        "    x_col='image_path',\n",
        "    y_col='label',\n",
        "    target_size=(224, 224),\n",
        "    batch_size=100,\n",
        "    class_mode='raw'\n",
        ")\n",
        "\n",
        "# Define the ResNet model\n",
        "base_model = EfficientNetB0(weights='imagenet', include_top=False)\n",
        "x = base_model.output\n",
        "x = GlobalAveragePooling2D()(x)\n",
        "x = Dense(1024, activation='relu', kernel_regularizer=l2(0.01))(x)\n",
        "x = Dropout(0.5)(x)\n",
        "predictions = Dense(len(label_encoder.classes_), activation='softmax')(x)\n",
        "model = Model(inputs=base_model.input, outputs=predictions)\n",
        "\n",
        "# Compile the model\n",
        "model.compile(optimizer=Adam(lr=0.001), loss='sparse_categorical_crossentropy', metrics=['accuracy'])\n",
        "\n"
      ],
      "metadata": {
        "colab": {
          "base_uri": "https://localhost:8080/"
        },
        "id": "EGjYTPA2wrZg",
        "outputId": "c5df0443-f2d7-4bf7-9228-1375aa63c9c8"
      },
      "execution_count": null,
      "outputs": [
        {
          "output_type": "stream",
          "name": "stdout",
          "text": [
            "Found 15035 validated image filenames.\n",
            "Found 3759 validated image filenames.\n"
          ]
        },
        {
          "output_type": "stream",
          "name": "stderr",
          "text": [
            "WARNING:absl:`lr` is deprecated in Keras optimizer, please use `learning_rate` or use the legacy optimizer, e.g.,tf.keras.optimizers.legacy.Adam.\n"
          ]
        }
      ]
    },
    {
      "cell_type": "code",
      "source": [
        "# Train the model with the dataset using image generators\n",
        "history = model.fit(train_generator, epochs=50, validation_data=test_generator)\n",
        "\n",
        "# Evaluate the model\n",
        "score = model.evaluate(test_generator, verbose=0)\n",
        "print(\"Test loss:\", score[0])\n",
        "print(\"Test accuracy:\", score[1])\n",
        "\n",
        "# Plot training & validation accuracy values\n",
        "plt.figure(figsize=(10, 5))\n",
        "plt.subplot(1, 2, 1)\n",
        "plt.plot(history.history['accuracy'])\n",
        "plt.plot(history.history['val_accuracy'])\n",
        "plt.title('Model accuracy')\n",
        "plt.ylabel('Accuracy')\n",
        "plt.xlabel('Epoch')\n",
        "plt.legend(['Train', 'Validation'], loc='upper left')\n",
        "# plt.savefig('drive/MyDrive/Accuracy.pdf')\n",
        "\n",
        "# Plot training & validation loss values\n",
        "plt.subplot(1, 2, 2)\n",
        "plt.plot(history.history['loss'])\n",
        "plt.plot(history.history['val_loss'])\n",
        "plt.title('Model loss')\n",
        "plt.ylabel('Loss')\n",
        "plt.xlabel('Epoch')\n",
        "plt.legend(['Train', 'Validation'], loc='upper right')\n",
        "plt.savefig('drive/MyDrive/effnet_augment.pdf')\n",
        "# plt.show()\n"
      ],
      "metadata": {
        "id": "HqHBYauw3Wna",
        "colab": {
          "base_uri": "https://localhost:8080/"
        },
        "outputId": "00add357-ad78-461d-bf39-627b8a71127f"
      },
      "execution_count": null,
      "outputs": [
        {
          "output_type": "stream",
          "name": "stdout",
          "text": [
            "Epoch 1/50\n",
            "151/151 [==============================] - 222s 1s/step - loss: 2.2255 - accuracy: 0.7091 - val_loss: 1.3843 - val_accuracy: 0.5406\n",
            "Epoch 2/50\n",
            "151/151 [==============================] - 180s 1s/step - loss: 0.5401 - accuracy: 0.7438 - val_loss: 1.1179 - val_accuracy: 0.5406\n",
            "Epoch 3/50\n",
            "151/151 [==============================] - 179s 1s/step - loss: 0.5139 - accuracy: 0.7604 - val_loss: 1.0576 - val_accuracy: 0.5406\n",
            "Epoch 4/50\n",
            "151/151 [==============================] - 179s 1s/step - loss: 0.4873 - accuracy: 0.7767 - val_loss: 0.9430 - val_accuracy: 0.5422\n",
            "Epoch 5/50\n",
            "151/151 [==============================] - 179s 1s/step - loss: 0.4717 - accuracy: 0.7811 - val_loss: 1.0241 - val_accuracy: 0.5406\n",
            "Epoch 6/50\n",
            "151/151 [==============================] - 180s 1s/step - loss: 0.4617 - accuracy: 0.7910 - val_loss: 0.7417 - val_accuracy: 0.5358\n",
            "Epoch 7/50\n",
            "151/151 [==============================] - 179s 1s/step - loss: 0.4446 - accuracy: 0.7993 - val_loss: 1.0078 - val_accuracy: 0.5400\n",
            "Epoch 8/50\n",
            "151/151 [==============================] - 179s 1s/step - loss: 0.4341 - accuracy: 0.8078 - val_loss: 1.0266 - val_accuracy: 0.4951\n",
            "Epoch 9/50\n",
            "151/151 [==============================] - 180s 1s/step - loss: 0.4249 - accuracy: 0.8120 - val_loss: 0.8997 - val_accuracy: 0.5406\n",
            "Epoch 10/50\n",
            "151/151 [==============================] - 180s 1s/step - loss: 0.4128 - accuracy: 0.8147 - val_loss: 1.4072 - val_accuracy: 0.5360\n",
            "Epoch 11/50\n",
            "151/151 [==============================] - 179s 1s/step - loss: 0.4060 - accuracy: 0.8210 - val_loss: 0.9464 - val_accuracy: 0.5645\n",
            "Epoch 12/50\n",
            "151/151 [==============================] - 179s 1s/step - loss: 0.3957 - accuracy: 0.8280 - val_loss: 1.5604 - val_accuracy: 0.5403\n",
            "Epoch 13/50\n",
            "151/151 [==============================] - 181s 1s/step - loss: 0.3812 - accuracy: 0.8331 - val_loss: 3.2341 - val_accuracy: 0.4972\n",
            "Epoch 14/50\n",
            "151/151 [==============================] - 179s 1s/step - loss: 0.3692 - accuracy: 0.8359 - val_loss: 1.3073 - val_accuracy: 0.5408\n",
            "Epoch 15/50\n",
            "151/151 [==============================] - 180s 1s/step - loss: 0.3642 - accuracy: 0.8380 - val_loss: 1.8994 - val_accuracy: 0.5406\n",
            "Epoch 16/50\n",
            "151/151 [==============================] - 180s 1s/step - loss: 0.3559 - accuracy: 0.8420 - val_loss: 1.5749 - val_accuracy: 0.5406\n",
            "Epoch 17/50\n",
            "151/151 [==============================] - 181s 1s/step - loss: 0.3421 - accuracy: 0.8509 - val_loss: 1.5210 - val_accuracy: 0.5504\n",
            "Epoch 18/50\n",
            "151/151 [==============================] - 179s 1s/step - loss: 0.3334 - accuracy: 0.8525 - val_loss: 1.3984 - val_accuracy: 0.5406\n",
            "Epoch 19/50\n",
            "151/151 [==============================] - 180s 1s/step - loss: 0.3309 - accuracy: 0.8544 - val_loss: 2.6036 - val_accuracy: 0.5406\n",
            "Epoch 20/50\n",
            "151/151 [==============================] - 180s 1s/step - loss: 0.3202 - accuracy: 0.8577 - val_loss: 2.7848 - val_accuracy: 0.5406\n",
            "Epoch 21/50\n",
            "151/151 [==============================] - 180s 1s/step - loss: 0.3098 - accuracy: 0.8612 - val_loss: 0.9905 - val_accuracy: 0.6486\n",
            "Epoch 22/50\n",
            "151/151 [==============================] - 180s 1s/step - loss: 0.3050 - accuracy: 0.8652 - val_loss: 1.6104 - val_accuracy: 0.4882\n",
            "Epoch 23/50\n",
            "151/151 [==============================] - 181s 1s/step - loss: 0.2979 - accuracy: 0.8686 - val_loss: 2.2837 - val_accuracy: 0.5406\n",
            "Epoch 24/50\n",
            "151/151 [==============================] - 180s 1s/step - loss: 0.2935 - accuracy: 0.8708 - val_loss: 3.9774 - val_accuracy: 0.5406\n",
            "Epoch 25/50\n",
            "151/151 [==============================] - 181s 1s/step - loss: 0.2935 - accuracy: 0.8678 - val_loss: 2.0340 - val_accuracy: 0.5406\n",
            "Epoch 26/50\n",
            "151/151 [==============================] - 179s 1s/step - loss: 0.2802 - accuracy: 0.8760 - val_loss: 1.4339 - val_accuracy: 0.5406\n",
            "Epoch 27/50\n",
            "151/151 [==============================] - 180s 1s/step - loss: 0.2760 - accuracy: 0.8722 - val_loss: 4.2272 - val_accuracy: 0.5198\n",
            "Epoch 28/50\n",
            "151/151 [==============================] - 179s 1s/step - loss: 0.2650 - accuracy: 0.8811 - val_loss: 1.5706 - val_accuracy: 0.5858\n",
            "Epoch 29/50\n",
            "151/151 [==============================] - 179s 1s/step - loss: 0.2606 - accuracy: 0.8815 - val_loss: 0.9716 - val_accuracy: 0.5464\n",
            "Epoch 30/50\n",
            "151/151 [==============================] - 179s 1s/step - loss: 0.2582 - accuracy: 0.8811 - val_loss: 2.1586 - val_accuracy: 0.5406\n",
            "Epoch 31/50\n",
            "151/151 [==============================] - 179s 1s/step - loss: 0.2524 - accuracy: 0.8839 - val_loss: 1.9297 - val_accuracy: 0.5406\n",
            "Epoch 32/50\n",
            "151/151 [==============================] - 180s 1s/step - loss: 0.2443 - accuracy: 0.8869 - val_loss: 3.1706 - val_accuracy: 0.5406\n",
            "Epoch 33/50\n",
            "151/151 [==============================] - 179s 1s/step - loss: 0.2541 - accuracy: 0.8813 - val_loss: 1.5851 - val_accuracy: 0.5406\n",
            "Epoch 34/50\n",
            "151/151 [==============================] - 179s 1s/step - loss: 0.2348 - accuracy: 0.8883 - val_loss: 4.3086 - val_accuracy: 0.5406\n",
            "Epoch 35/50\n",
            "151/151 [==============================] - 180s 1s/step - loss: 0.2420 - accuracy: 0.8902 - val_loss: 2.6441 - val_accuracy: 0.5406\n",
            "Epoch 36/50\n",
            "151/151 [==============================] - 179s 1s/step - loss: 0.2396 - accuracy: 0.8888 - val_loss: 2.2330 - val_accuracy: 0.5411\n",
            "Epoch 37/50\n",
            "151/151 [==============================] - 179s 1s/step - loss: 0.2330 - accuracy: 0.8877 - val_loss: 3.6390 - val_accuracy: 0.5406\n",
            "Epoch 38/50\n",
            "151/151 [==============================] - 179s 1s/step - loss: 0.2291 - accuracy: 0.8928 - val_loss: 2.1452 - val_accuracy: 0.5406\n",
            "Epoch 39/50\n",
            "151/151 [==============================] - 180s 1s/step - loss: 0.2141 - accuracy: 0.8982 - val_loss: 4.3068 - val_accuracy: 0.5411\n",
            "Epoch 40/50\n",
            "139/151 [==========================>...] - ETA: 13s - loss: 0.2155 - accuracy: 0.8965"
          ]
        }
      ]
    },
    {
      "cell_type": "code",
      "source": [
        "import matplotlib.pyplot as plt\n",
        "import seaborn as sns\n",
        "from sklearn.metrics import confusion_matrix\n",
        "# Get true labels and file paths from the test_generator\n",
        "y_true = test_generator.labels\n",
        "filepaths = test_generator.filepaths\n",
        "\n",
        "# Generate predictions\n",
        "y_pred = np.argmax(model.predict(test_generator), axis=-1)\n",
        "\n",
        "# Create a confusion matrix\n",
        "cm = confusion_matrix(y_true, y_pred)\n",
        "\n",
        "# Plot the confusion matrix\n",
        "plt.figure(figsize=(8, 8))\n",
        "sns.heatmap(cm, annot=True, fmt='d', cmap='Blues', cbar=False, xticklabels=label_encoder.classes_, yticklabels=label_encoder.classes_)\n",
        "plt.xlabel('Predicted Label')\n",
        "plt.ylabel('True Label')\n",
        "plt.title('Confusion Matrix')\n",
        "plt.show()\n",
        "\n",
        "\n"
      ],
      "metadata": {
        "id": "NNQ-BHqmF5SF"
      },
      "execution_count": null,
      "outputs": []
    },
    {
      "cell_type": "code",
      "source": [
        "# Predict the classes for the test set\n",
        "y_pred = model.predict(X_test_processed)\n",
        "y_pred_classes = np.argmax(y_pred, axis=1)\n",
        "\n",
        "# Create the confusion matrix\n",
        "cm = confusion_matrix(y_test, y_pred_classes)\n",
        "print(\"Confusion Matrix:\\n\", cm)\n",
        "\n",
        "y_pred_train = model.predict(X_train_processed)\n",
        "y_pred_classes_train = np.argmax(y_pred_train, axis=1)\n",
        "\n",
        "cm = confusion_matrix(y_train, y_pred_classes_train)\n",
        "print(\"Confusion Matrix:\\n\", cm)"
      ],
      "metadata": {
        "id": "kTPQTmikBU9G",
        "colab": {
          "base_uri": "https://localhost:8080/"
        },
        "outputId": "0e497da5-1b03-4d4d-95f9-1b0fac3a02af"
      },
      "execution_count": null,
      "outputs": [
        {
          "output_type": "stream",
          "name": "stdout",
          "text": [
            "118/118 [==============================] - 2s 10ms/step\n",
            "Confusion Matrix:\n",
            " [[1195  837]\n",
            " [ 204 1523]]\n",
            "470/470 [==============================] - 5s 10ms/step\n",
            "Confusion Matrix:\n",
            " [[5070 2878]\n",
            " [ 478 6609]]\n"
          ]
        }
      ]
    }
  ]
}